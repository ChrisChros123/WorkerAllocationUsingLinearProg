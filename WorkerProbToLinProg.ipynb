{
 "cells": [
  {
   "cell_type": "code",
   "execution_count": 15,
   "metadata": {},
   "outputs": [
    {
     "name": "stdout",
     "output_type": "stream",
     "text": [
      "Number of hours the workers (rows) spend on the tasks (columns): \n",
      "[[0.88 1.25 0.   0.   0.   0.  ]\n",
      " [0.   0.   0.   2.13 0.   0.  ]\n",
      " [0.   0.   0.96 0.18 0.99 0.  ]\n",
      " [0.   0.   2.13 0.   0.   0.  ]\n",
      " [0.   0.   0.   1.02 0.   1.11]\n",
      " [0.93 0.   0.   0.   1.21 0.  ]]\n",
      "Minimal time needed to solve all tasks with crew (in hours):  2.1310861423236105\n"
     ]
    }
   ],
   "source": [
    "import numpy as np\n",
    "from scipy.optimize import linprog\n",
    "\n",
    "def convertToLinearProblem (workerTaskData):\n",
    "    noOfWorkers, noOfTasks = np.shape(workerTaskData)\n",
    "    c = np.zeros((noOfWorkers * noOfTasks + 1))\n",
    "    c[-1] = 1\n",
    "    # A: matrix for inequality constraints\n",
    "    A = np.zeros((noOfWorkers, noOfWorkers * noOfTasks + 1))\n",
    "    for i in range(noOfWorkers):\n",
    "        # set -T in last column\n",
    "        A[i, -1] = -1\n",
    "        for j in range(i * noOfTasks,(i+1)* noOfTasks):\n",
    "            A[i, j] = 1  \n",
    "    # b: vector for inequality constraints\n",
    "    b = np.zeros((noOfWorkers))\n",
    "    # A_eq: matrix for equality constraints\n",
    "    A_eq = np.zeros((noOfTasks, noOfWorkers * noOfTasks + 1))\n",
    "    for j in range(noOfTasks):\n",
    "        for i in range(noOfWorkers):\n",
    "            A_eq[j, i * noOfTasks + j] = P[i,j]\n",
    "    # b_eq: vector for equality constraints\n",
    "    b_eq = np.ones((noOfTasks))\n",
    "    # there is no upper bound for x_ij (like the default in scipy)\n",
    "    # lower bound for x_ij is 0 (like the default in scipy)\n",
    "    return c, A, b, A_eq, b_eq\n",
    "\n",
    "def convertXToMatrix(x, noOfWorkers, noOfTasks):\n",
    "    totalTime = x[-1]\n",
    "    X = np.zeros((noOfWorkers, noOfTasks))\n",
    "    for i in range(noOfWorkers):\n",
    "        for j in range(noOfTasks):\n",
    "            X[i,j] = x[i* noOfTasks + j]\n",
    "    return X, totalTime\n",
    "\n",
    "# load example data (skipping first row and first column)\n",
    "with open(\"worker_task_data.csv\") as data:\n",
    "    ncols = len(data.readline().split(','))\n",
    "workerTaskData = np.loadtxt(\"worker_task_data.csv\", delimiter = ',', skiprows=1, usecols=range(1,ncols))\n",
    "\n",
    "# convert data into linear problem (variables as defined in SciPy library)\n",
    "c,A,b,A_eq, b_eq  = convertToLinearProblem(workerTaskData)\n",
    "\n",
    "# solve the linear problem\n",
    "result = linprog(c,A,b,A_eq, b_eq)\n",
    "x = result.x\n",
    "noOfworkers, noOfTasks = np.shape(workerTaskData)\n",
    "X, totalTime = convertXToMatrix(x, noOfworkers, noOfTasks)\n",
    "\n",
    "# print the results\n",
    "np.set_printoptions(precision=2, suppress=True)\n",
    "print(\"Number of hours the workers (rows) spend on the tasks (columns): \")\n",
    "print(X)\n",
    "print(\"Minimal time needed to solve all tasks with crew (in hours): \",totalTime)"
   ]
  }
 ],
 "metadata": {
  "kernelspec": {
   "display_name": "Python 3",
   "language": "python",
   "name": "python3"
  },
  "language_info": {
   "codemirror_mode": {
    "name": "ipython",
    "version": 3
   },
   "file_extension": ".py",
   "mimetype": "text/x-python",
   "name": "python",
   "nbconvert_exporter": "python",
   "pygments_lexer": "ipython3",
   "version": "3.6.9"
  }
 },
 "nbformat": 4,
 "nbformat_minor": 2
}
